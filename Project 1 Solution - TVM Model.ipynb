{
 "cells": [
  {
   "cell_type": "markdown",
   "metadata": {},
   "source": [
    "# Machines Manufacturing Captal Budgeting Model (Project 1)\n",
    "\n",
    "This model is a capital budgeting model using concepts of Time Value of Money:\n",
    "\n",
    "- [**Setup**](#Setup): Imported the numpy_financial library to calculate the NPV of the cash flows. Also imported dataclass and numpy as basic libraries.\n",
    "    - Dataclass is the class that contains our main inputs\n",
    "    - Numpy is for basic calculations\n",
    "    - numpy_financial is for calculating NPV, as the npv() function in numpy is deprecated\n",
    "- [**Inputs**](#Inputs): the model uses the below inputs to calculate the NPV of the project:\n",
    "    - n_phones: number of phones manufactured by a machine\n",
    "    - price_scrap: scrap price of a machine post working lifetime\n",
    "    - price_phone: price of the phone\n",
    "    - cost_machine_adv: equity investment per year, used to buy either machines or spend on advertisements\n",
    "    - cogs_phone: variable cost of the phone\n",
    "    - n_life: number of working years for a single machine\n",
    "    - n_machines: number of machines bought by the company\n",
    "    - d_1: initial demand of the phone\n",
    "    - g_d: growth rate of demand\n",
    "    - max_year: number of years over which the company forecasts the NPV"
   ]
  },
  {
   "cell_type": "markdown",
   "metadata": {},
   "source": [
    "## Setup\n",
    "\n",
    "Setup for the later calculations are here. The necessary packages are imported."
   ]
  },
  {
   "cell_type": "code",
   "execution_count": 80,
   "metadata": {},
   "outputs": [],
   "source": [
    "from dataclasses import dataclass\n",
    "import numpy as np\n",
    "import numpy_financial as npf"
   ]
  },
  {
   "cell_type": "markdown",
   "metadata": {},
   "source": [
    "## Inputs\n",
    "\n",
    "All of the inputs for the model are defined here. A class is constructed to manage the data, and an instance of the class containing the default inputs is created and used in the output section."
   ]
  },
  {
   "cell_type": "code",
   "execution_count": 92,
   "metadata": {},
   "outputs": [],
   "source": [
    "@dataclass\n",
    "class ModelInputs:\n",
    "    n_phones: float = 100000\n",
    "    price_scrap: float = 50000\n",
    "    price_phone: float = 500\n",
    "    cost_machine_adv: float = 1000000\n",
    "    cogs_phone: float = 250\n",
    "    n_life: int = 10\n",
    "    n_machines: int = 5\n",
    "    d_1: float = 100000\n",
    "    g_d: float = 0.2\n",
    "    max_year: float = 20\n",
    "    interest: float = 0.05"
   ]
  },
  {
   "cell_type": "markdown",
   "metadata": {},
   "source": [
    "## Outputs:\n",
    "\n",
    "The Cash flow and calculated NPV are calculated here. The cash_flow_calc"
   ]
  },
  {
   "cell_type": "code",
   "execution_count": 95,
   "metadata": {},
   "outputs": [
    {
     "name": "stdout",
     "output_type": "stream",
     "text": [
      "Yearly Cash Flows: [24000000, 24000000, 24000000, 24000000, 24000000, 29000000.0, 35000000.0, 42199999.99999999, 50840000.0, 61207999.999999985, 73699599.99999997, 74050000, 49050000, 24050000, -950000, -1000000, -1000000, -1000000, -1000000, -1000000]\n",
      "Net Present Value of Cash Flows: 387740369.5978611\n"
     ]
    }
   ],
   "source": [
    "def cash_flow_calc(n_phones, price_scrap, price_phone, cost_machine_adv, cogs_phone, n_life, n_machines,\n",
    "                      d_1, g_d, max_year):\n",
    "        demand, revenue, var_phone, cash_flow, scrap_array = ([] for i in range(5))\n",
    "\n",
    "        i = 1\n",
    "        # calculation for changing demands of phones\n",
    "        for i in range(max_year+1):\n",
    "            if i <= n_machines:\n",
    "                demand.insert(i, d_1)\n",
    "            else: # advertising starts here, so demand keeps increasing with the given growth rate\n",
    "                val = d_1 * (1 + g_d) ** (i - n_machines)\n",
    "                demand.insert(i, val)\n",
    "                \n",
    "        supply = 0\n",
    "        \n",
    "        for i, j in zip(range(max_year+1), range(len(demand)+1)):\n",
    "            quantity = 0\n",
    "            if i == 0 and j == 0:\n",
    "                pass\n",
    "            # revenue and variable cost calculation\n",
    "            elif i < n_life and j < n_life:\n",
    "                supply = n_phones * j\n",
    "                quantity = min(demand[j], supply)\n",
    "                revenue.insert(i, price_phone * quantity)\n",
    "                var_phone.insert(i, cogs_phone * quantity)\n",
    "            elif i%n_machines == 0 and i == n_life and j == n_life:\n",
    "                supply = n_phones * n_machines\n",
    "                quantity = min(demand[j], supply)\n",
    "                revenue.insert(i, price_phone * quantity)\n",
    "                var_phone.insert(i, cogs_phone * quantity)\n",
    "            elif i%n_machines == 0 and i-n_life == n_machines:\n",
    "                supply = 0\n",
    "                quantity = min(demand[j], supply)\n",
    "                revenue.insert(i, price_phone * quantity)\n",
    "                var_phone.insert(i, cogs_phone * quantity)\n",
    "            elif i%n_machines == 0 and i > n_life and i - n_life > n_machines:\n",
    "                supply = 0\n",
    "                quantity = min(demand[j], supply)\n",
    "                revenue.insert(i, price_phone * quantity) \n",
    "                var_phone.insert(i, cogs_phone * quantity)\n",
    "            elif i%n_machines != 0 and i%n_life > n_machines:\n",
    "                supply = 0\n",
    "                quantity = min(demand[j], supply)\n",
    "                revenue.insert(i, price_phone * quantity)\n",
    "                var_phone.insert(i, cogs_phone * quantity)\n",
    "            elif i%n_machines != 0 and i%n_life < n_machines:\n",
    "                supply = n_phones * (n_machines - (i%n_life))\n",
    "                quantity = min(demand[j], supply)\n",
    "                revenue.insert(i, price_phone * quantity)\n",
    "                var_phone.insert(i, cogs_phone * quantity)\n",
    "            else:\n",
    "                supply = n_phones * i\n",
    "                quantity = min(demand[j], supply)\n",
    "                revenue.insert(i, price_phone * quantity)\n",
    "                var_phone.insert(i, cogs_phone * quantity)\n",
    "\n",
    "            # scrap value calculation per year\n",
    "            if i == 0 and j == 0:\n",
    "                pass\n",
    "            elif i > n_life and i - n_life <= n_machines:\n",
    "                scrap_array.insert(i, price_scrap)\n",
    "            else:\n",
    "                scrap_array.insert(i, 0)\n",
    "\n",
    "        # yearly cash flow calculation = Revenue cost of phone - variable cost - investment + scrap value\n",
    "        for (i, j, k) in zip(range(len(revenue)), range(len(var_phone)), range(len(scrap_array))):\n",
    "            calc = revenue[i]-var_phone[j]-cost_machine_adv+scrap_array[k]\n",
    "            cash_flow.insert(i, calc)\n",
    "\n",
    "        return cash_flow\n",
    "\n",
    "def npv_calc(cash_flow, interest):\n",
    "    npv = npf.npv(interest, cash_flow)\n",
    "    return npv\n",
    "\n",
    "\n",
    "model_data = ModelInputs()\n",
    "cash_flows = cash_flow_calc(model_data.n_phones, model_data.price_scrap, model_data.price_phone, \n",
    "                    model_data.cost_machine_adv, model_data.cogs_phone, model_data.n_life, model_data.n_machines,\n",
    "                    model_data.d_1, model_data.g_d, model_data.max_year)\n",
    "\n",
    "print(f\"Yearly Cash Flows: {cash_flows}\")\n",
    "npv = npv_calc(cash_flows, model_data.interest)\n",
    "print(f\"Net Present Value of Cash Flows: {npv}\")\n",
    "\n",
    "# cash_flows = # this should ultimately be set to the list containing your cash flow numbers in each year\n",
    "# npv = # this should ultimately be set to the overally model npv number "
   ]
  }
 ],
 "metadata": {
  "kernelspec": {
   "display_name": "Python 3 (ipykernel)",
   "language": "python",
   "name": "python3"
  },
  "language_info": {
   "codemirror_mode": {
    "name": "ipython",
    "version": 3
   },
   "file_extension": ".py",
   "mimetype": "text/x-python",
   "name": "python",
   "nbconvert_exporter": "python",
   "pygments_lexer": "ipython3",
   "version": "3.11.4"
  }
 },
 "nbformat": 4,
 "nbformat_minor": 4
}
